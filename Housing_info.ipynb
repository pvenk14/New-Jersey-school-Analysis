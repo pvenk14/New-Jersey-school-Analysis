{
 "cells": [
  {
   "cell_type": "code",
   "execution_count": null,
   "metadata": {},
   "outputs": [],
   "source": [
    "#import Dependencies\n",
    "import pandas as pd\n",
    "import matplotlib.pyplot as plt"
   ]
  },
  {
   "cell_type": "code",
   "execution_count": null,
   "metadata": {},
   "outputs": [],
   "source": [
    "# Create a reference the CSV file desired\n",
    "csv_path = \"City_Zhvi_AllHomes.csv\"\n",
    "\n",
    "# Read the CSV into a Pandas DataFrame\n",
    "housing_df = pd.read_csv(csv_path)\n",
    "\n",
    "# Print the first five rows of data to the screen\n",
    "housing_df.head()"
   ]
  },
  {
   "cell_type": "code",
   "execution_count": null,
   "metadata": {},
   "outputs": [],
   "source": [
    "# Remove Unnecessary columns from data frame. Retaining only housing info from the year 2013\n",
    "housing_df = housing_df[[\"State\",\"CountyName\",\"SizeRank\",\"2013-01\",\"2013-02\",\"2013-03\",\"2013-04\",\"2013-05\",\"2013-06\",\n",
    "\"2013-07\",\"2013-08\",\"2013-09\",\"2013-10\",\"2013-11\",\"2013-12\",\"2014-01\",\"2014-02\",\"2014-03\",\"2014-04\",\"2014-05\",\"2014-06\",\n",
    "\"2014-07\",\"2014-08\",\"2014-09\",\"2014-10\",\"2014-11\",\"2014-12\",\"2015-01\",\"2015-02\",\"2015-03\",\"2015-04\",\"2015-05\",\"2015-06\",\n",
    "\"2015-07\",\"2015-08\",\"2015-09\",\"2015-10\",\"2015-11\",\"2015-12\",\"2016-01\",\"2016-02\",\"2016-03\",\"2016-04\",\"2016-05\",\"2016-06\",\n",
    "\"2016-07\",\"2016-08\",\"2016-09\",\"2016-10\",\"2016-11\",\"2016-12\",\"2017-01\",\"2017-02\",\"2017-03\",\"2017-04\",\"2017-05\",\"2017-06\",\n",
    "\"2017-07\",\"2017-08\",\"2017-09\",\"2017-10\",\"2017-11\",\"2017-12\",\"2018-01\",\"2018-02\",\"2018-03\",\"2018-04\",\"2018-05\"]]\n",
    "housing_df.head()"
   ]
  },
  {
   "cell_type": "code",
   "execution_count": null,
   "metadata": {},
   "outputs": [],
   "source": [
    "# housing data only for NJ\n",
    "housing_df = housing_df.loc[housing_df[\"State\"] ==\"NJ\",:]\n",
    "housing_df.head()"
   ]
  },
  {
   "cell_type": "code",
   "execution_count": null,
   "metadata": {},
   "outputs": [],
   "source": [
    "# Find housing value Avg for every year \n",
    "value_2013 = housing_df.loc[: , \"2013-01\":\"2013-12\"]\n",
    "housing_df[\"2013\"] = value_2013.mean(axis=1)\n",
    "\n",
    "value_2014 = housing_df.loc[:,\"2014-01\":\"2014-12\"]\n",
    "housing_df[\"2014\"] = value_2014.mean(axis=1)\n",
    "\n",
    "value_2015= housing_df.loc[:,\"2015-01\":\"2015-12\"]\n",
    "housing_df[\"2015\"] = value_2015.mean(axis=1)\n",
    "\n",
    "value_2016 = housing_df.loc[:,\"2016-01\":\"2016-12\"]\n",
    "housing_df[\"2016\"] = value_2016.mean(axis=1)\n",
    "\n",
    "\n",
    "value_2017 = housing_df.loc[:,\"2017-01\":\"2017-12\"]\n",
    "housing_df[\"2017\"] = value_2017.mean(axis=1)\n",
    "\n",
    "\n",
    "value_2018 = housing_df.loc[:,\"2018-01\":\"2018-05\"]\n",
    "housing_df[\"2018\"] = value_2018.mean(axis=1)\n",
    "\n"
   ]
  },
  {
   "cell_type": "code",
   "execution_count": null,
   "metadata": {},
   "outputs": [],
   "source": [
    "#data frame with only relevant columns\n",
    "housing_df = housing_df[[\"State\",\"CountyName\",\"SizeRank\",\"2013\",\"2014\",\"2015\",\"2016\",\"2017\",\"2018\"]]\n",
    "pd.options.display.float_format = '{:.2f}'.format\n",
    "housing_df"
   ]
  },
  {
   "cell_type": "code",
   "execution_count": null,
   "metadata": {},
   "outputs": [],
   "source": [
    "housing_state = housing_df.groupby('CountyName')['2013','2014','2015','2016','2017','2018'].mean()\n",
    "housing_state"
   ]
  },
  {
   "cell_type": "code",
   "execution_count": null,
   "metadata": {},
   "outputs": [],
   "source": [
    "housing_state_price = housing_state.copy()\n",
    "housing_state_price = housing_state_price[['CountyName','2013','2014','2015','2016','2017','2018']]\n",
    "housing_state_price = housing_state_price.set_index ('CountyName')"
   ]
  },
  {
   "cell_type": "code",
   "execution_count": null,
   "metadata": {},
   "outputs": [],
   "source": [
    "housing_state['%Change 2013-14'] = ((housing_state[\"2014\"] - housing_state[\"2013\"]) / housing_state[\"2013\"])*100\n",
    "housing_state['%Change 2014-15'] = ((housing_state[\"2015\"] - housing_state[\"2014\"]) / housing_state[\"2014\"])*100\n",
    "housing_state['%Change 2015-16'] = ((housing_state[\"2016\"] - housing_state[\"2015\"]) / housing_state[\"2015\"])*100\n",
    "housing_state['%Change 2016-17'] = ((housing_state[\"2017\"] - housing_state[\"2016\"]) / housing_state[\"2016\"])*100\n",
    "housing_state['%Change 2017-18'] = ((housing_state[\"2018\"] - housing_state[\"2017\"]) / housing_state[\"2017\"])*100\n",
    "housing_state = housing_state.reset_index()\n",
    "housing_state"
   ]
  },
  {
   "cell_type": "code",
   "execution_count": null,
   "metadata": {},
   "outputs": [],
   "source": [
    "housing_percent = pd.DataFrame({\"County\": housing_state[\"CountyName\"],\n",
    "                              \"%Change 2013-14\": housing_state['%Change 2013-14'],\n",
    "                               \"%Change 2014-15\":housing_state['%Change 2013-14'],\n",
    "                               \"%Change 2015-16\":housing_state['%Change 2015-16'],\n",
    "                               \"%Change 2016-17\":housing_state['%Change 2016-17'],\n",
    "                               \"%Change 2017-18\":housing_state['%Change 2017-18']})\n",
    "\n",
    "housing_percent = housing_percent.sort_values(\"%Change 2017-18\", ascending=False)\n",
    "housing_percent = housing_percent.set_index('County')\n",
    "housing_percent"
   ]
  },
  {
   "cell_type": "code",
   "execution_count": null,
   "metadata": {},
   "outputs": [],
   "source": [
    "prices_2013 = housing_state[\"2013\"]\n",
    "prices_2015 = housing_state['2015']\n",
    "prices_2018 = housing_state['2018']\n",
    "county_name= housing_state['CountyName']\n",
    "prices_2013.head()"
   ]
  },
  {
   "cell_type": "code",
   "execution_count": null,
   "metadata": {},
   "outputs": [],
   "source": [
    "#Graphing House Data vs Time \n",
    "\n",
    "plt.figure(figsize=(20,10))\n",
    "plt.bar(county_name, prices_2018 , color=\"green\", label=\"2018\")\n",
    "plt.bar(county_name, prices_2015, color=\"yellow\", label=\"2015\")\n",
    "plt.bar(county_name, prices_2013, color=\"blue\", label=\"2013\")\n",
    "plt.title(\"House Prices vs Years in New Jersey\")\n",
    "axes = plt.gca()\n",
    "# axes.set_ylim([None,None])\n",
    "plt.xlabel(\"Counties\")\n",
    "plt.ylabel(\"House Prices\")\n",
    "plt.legend()\n",
    "plt.ylim(None,None)\n",
    "plt.savefig(\"House Price vs years.png\")\n",
    "\n",
    "plt.show()\n",
    "plt.tight_layout()"
   ]
  },
  {
   "cell_type": "code",
   "execution_count": null,
   "metadata": {},
   "outputs": [],
   "source": [
    "# Pandas can also plot multiple columns if the DataFrame includes them\n",
    "multi_plot = housing_state_price.plot(kind=\"bar\", figsize=(20,10))\n",
    "plt.title(\"House Prices for 2013,2014, 2015, 2016,2017, 2018\")\n",
    "plt.savefig(\"multiplot-1\")\n",
    "\n",
    "plt.ylabel(\"Prices in USD\")\n",
    "\n",
    "plt.xlabel(\"Counties\")\n",
    "# PandasPlot.set_xticklabels() can be used to set the tick labels as well\n",
    "# multi_plot.set_xticklabels(housing_state[\"CountyName\"], rotation=45)\n",
    "plt.show()\n",
    "plt.tight_layout()\n",
    "plt.savefig(\"multiplot-1\")"
   ]
  },
  {
   "cell_type": "code",
   "execution_count": null,
   "metadata": {},
   "outputs": [],
   "source": [
    "#plotting percent change county wise\n",
    "# Pandas can also plot multiple columns if the DataFrame includes them\n",
    "multi_plot = housing_percent.plot(kind=\"bar\", figsize=(20,10))\n",
    "plt.title(\"% Increase or Decrease in house prices 2013,2014, 2015, 2016,2017, 2018\")\n",
    "plt.savefig(\"multiplot-1\")\n",
    "plt.ylabel(\"% Increase or Decrease\")\n",
    "\n",
    "plt.xlabel(\"Counties\")\n",
    "# PandasPlot.set_xticklabels() can be used to set the tick labels as well\n",
    "# multi_plot.set_xticklabels(housing_state[\"CountyName\"], rotation=45)\n",
    "plt.show()\n",
    "plt.tight_layout()\n",
    "plt.savefig(\"multiplot-1\")"
   ]
  },
  {
   "cell_type": "code",
   "execution_count": null,
   "metadata": {},
   "outputs": [],
   "source": []
  }
 ],
 "metadata": {
  "kernelspec": {
   "display_name": "Python 3",
   "language": "python",
   "name": "python3"
  },
  "language_info": {
   "codemirror_mode": {
    "name": "ipython",
    "version": 3
   },
   "file_extension": ".py",
   "mimetype": "text/x-python",
   "name": "python",
   "nbconvert_exporter": "python",
   "pygments_lexer": "ipython3",
   "version": "3.6.4"
  }
 },
 "nbformat": 4,
 "nbformat_minor": 2
}
