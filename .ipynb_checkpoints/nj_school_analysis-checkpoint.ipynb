{
 "cells": [
  {
   "cell_type": "code",
   "execution_count": 1,
   "metadata": {
    "collapsed": true
   },
   "outputs": [],
   "source": [
    "import csv\n",
    "import pandas as pd\n",
    "import numpy as np\n",
    "import matplotlib.pyplot as plt"
   ]
  },
  {
   "cell_type": "code",
   "execution_count": 2,
   "metadata": {
    "collapsed": true
   },
   "outputs": [],
   "source": [
    "school_data_2012_2013_load = '2012-2013 nj high school.csv'\n",
    "school_data_2013_2014_load = '2013-2014 nj high school.csv'\n",
    "school_data_2014_2015_load = '2014-2015 nj high school.csv'\n",
    "school_data_2015_2016_load = '2015-2016 nj high school.csv'\n",
    "school_data_2016_2017_load = '2016-2017 nj high school.csv'"
   ]
  },
  {
   "cell_type": "code",
   "execution_count": 3,
   "metadata": {
    "collapsed": true
   },
   "outputs": [],
   "source": [
    "school_data_2012_2013 = pd.read_csv(school_data_2012_2013_load)\n",
    "school_data_2013_2014 = pd.read_csv(school_data_2013_2014_load)\n",
    "school_data_2014_2015 = pd.read_csv(school_data_2014_2015_load)\n",
    "school_data_2015_2016 = pd.read_csv(school_data_2015_2016_load)\n",
    "school_data_2016_2017 = pd.read_csv(school_data_2016_2017_load)"
   ]
  },
  {
   "cell_type": "code",
   "execution_count": null,
   "metadata": {
    "collapsed": true
   },
   "outputs": [],
   "source": []
  }
 ],
 "metadata": {
  "kernelspec": {
   "display_name": "Python 3",
   "language": "python",
   "name": "python3"
  },
  "language_info": {
   "codemirror_mode": {
    "name": "ipython",
    "version": 3
   },
   "file_extension": ".py",
   "mimetype": "text/x-python",
   "name": "python",
   "nbconvert_exporter": "python",
   "pygments_lexer": "ipython3",
   "version": "3.6.3"
  }
 },
 "nbformat": 4,
 "nbformat_minor": 2
}
